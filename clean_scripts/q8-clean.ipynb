{
 "cells": [
  {
   "cell_type": "code",
   "execution_count": 110,
   "metadata": {
    "collapsed": true
   },
   "outputs": [],
   "source": [
    "#!/usr/bin/python\n",
    "# -*- coding: utf-8 -*-\n",
    "\n",
    "import pandas as pd\n",
    "import csv\n",
    "import json, traceback, codecs"
   ]
  },
  {
   "cell_type": "code",
   "execution_count": 115,
   "metadata": {},
   "outputs": [],
   "source": [
    "def clean():\n",
    "    PATH = '../csv_results/q8-result.csv'\n",
    "    result = pd.read_csv(PATH, encoding='utf-8', quoting=csv.QUOTE_ALL, error_bad_lines=False)\n",
    "    print(result.shape)\n",
    "    # grouped = result.groupby(['Alive for x years']).agg(['count'])\n",
    "    grouped = result.groupby([\"Alive for x years\"], as_index=False).count()\n",
    "    final = grouped[grouped.columns[0:2]]\n",
    "    final.columns = ['alive_years', 'count']\n",
    "    pd.to_numeric(final['alive_years'])\n",
    "    pd.to_numeric(final['count'])\n",
    "    final_json = final.to_json()\n",
    "    print(final_json)\n",
    "    f = codecs.open('q8-data.json', 'w', encoding = 'utf-8')\n",
    "    f.write(json.dumps(final_json, indent = 4))\n",
    "    f.close()"
   ]
  },
  {
   "cell_type": "code",
   "execution_count": 116,
   "metadata": {},
   "outputs": [
    {
     "name": "stdout",
     "output_type": "stream",
     "text": [
      "(366, 4)\n",
      "{\"alive_years\":{\"0\":1,\"1\":2,\"2\":3,\"3\":4,\"4\":5,\"5\":6,\"6\":7,\"7\":8},\"count\":{\"0\":129,\"1\":111,\"2\":44,\"3\":35,\"4\":20,\"5\":17,\"6\":8,\"7\":2}}\n"
     ]
    }
   ],
   "source": [
    "if __name__ == '__main__':\n",
    "    clean()"
   ]
  },
  {
   "cell_type": "code",
   "execution_count": null,
   "metadata": {
    "collapsed": true
   },
   "outputs": [],
   "source": []
  }
 ],
 "metadata": {
  "kernelspec": {
   "display_name": "Python 3",
   "language": "python",
   "name": "python3"
  },
  "language_info": {
   "codemirror_mode": {
    "name": "ipython",
    "version": 3
   },
   "file_extension": ".py",
   "mimetype": "text/x-python",
   "name": "python",
   "nbconvert_exporter": "python",
   "pygments_lexer": "ipython3",
   "version": "3.6.3"
  }
 },
 "nbformat": 4,
 "nbformat_minor": 2
}
